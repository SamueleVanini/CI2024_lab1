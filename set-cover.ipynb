{
 "cells": [
  {
   "cell_type": "code",
   "execution_count": 396,
   "metadata": {},
   "outputs": [],
   "source": [
    "import time\n",
    "import numpy as np\n",
    "\n",
    "from typing import Sequence, Callable\n",
    "from itertools import accumulate\n",
    "from matplotlib import pyplot as plt\n",
    "from icecream import ic\n",
    "from tqdm import tqdm"
   ]
  },
  {
   "cell_type": "code",
   "execution_count": 473,
   "metadata": {},
   "outputs": [],
   "source": [
    "UNIVERSE_SIZE = 100_000\n",
    "NUM_SETS = 10_000\n",
    "# high density => each set is covering a lot of element     \n",
    "DENSITY = 0.1\n",
    "\n",
    "rng = np.random.Generator(np.random.PCG64([UNIVERSE_SIZE, NUM_SETS, int(10_000 * DENSITY)]))"
   ]
  },
  {
   "cell_type": "code",
   "execution_count": 474,
   "metadata": {},
   "outputs": [],
   "source": [
    "# DON'T EDIT THESE LINES!\n",
    "\n",
    "SETS = np.random.random((NUM_SETS, UNIVERSE_SIZE)) < DENSITY\n",
    "for s in range(UNIVERSE_SIZE):\n",
    "    if not np.any(SETS[:, s]):\n",
    "        SETS[np.random.randint(NUM_SETS), s] = True\n",
    "\n",
    "# different sets has different costs (we need to minimize the total costs not the number of set taken)\n",
    "COSTS = np.pow(SETS.sum(axis=1), 1.1)\n",
    "\n",
    "def cost(solution):\n",
    "    \"\"\"Returns the cost of a solution (to be minimized)\"\"\"\n",
    "    return COSTS[solution].sum()"
   ]
  },
  {
   "cell_type": "markdown",
   "metadata": {},
   "source": [
    "## Helper Functions"
   ]
  },
  {
   "cell_type": "code",
   "execution_count": 509,
   "metadata": {},
   "outputs": [],
   "source": [
    "def valid(solution):\n",
    "    \"\"\"Checks wether solution is valid (ie. covers all universe)\"\"\"\n",
    "    phenotype = np.logical_or.reduce(SETS[solution])\n",
    "    return np.all(phenotype)\n",
    "\n",
    "def plot_history(history: Sequence):\n",
    "    plt.figure(figsize=(14, 8))\n",
    "    plt.plot(\n",
    "        range(len(history)),\n",
    "        list(accumulate(history, max)),\n",
    "        color=\"red\",\n",
    "    )\n",
    "    _ = plt.scatter(range(len(history)), history, marker=\".\")"
   ]
  },
  {
   "cell_type": "markdown",
   "metadata": {},
   "source": [
    "# Tweak functions"
   ]
  },
  {
   "cell_type": "code",
   "execution_count": 476,
   "metadata": {},
   "outputs": [],
   "source": [
    "def single_mutation(solution: np.ndarray) -> np.ndarray:\n",
    "    \"\"\"Randomly drop or take one set in the universe\n",
    "    Args:\n",
    "        solution (np.ndarray): current solution (which sets are we taking)\n",
    "    Returns:\n",
    "        np.ndarray: new solution (starting solution +/- 1 set\n",
    "    \"\"\"\n",
    "    new_sol = solution.copy()\n",
    "    i = rng.integers(0, NUM_SETS)\n",
    "    new_sol[i] = not new_sol[i]\n",
    "    return new_sol\n",
    "\n",
    "def multiple_mutation(solution: np.ndarray, probability: float = 0.01) -> np.ndarray:\n",
    "    \"\"\"Randomly drop or take a number of sets with a certain probability\n",
    "    Args:\n",
    "        solution (np.ndarray): current solution\n",
    "        probability (float, optional): probability of each sets to be taken or droppped. Defaults to 0.01.\n",
    "    Returns:\n",
    "        np.ndarray: new solution\n",
    "    \"\"\"\n",
    "    new_sol = solution.copy()\n",
    "    mask = rng.random(NUM_SETS) < probability\n",
    "    if not np.any(mask):\n",
    "        mask[rng.integers(NUM_SETS)] = True\n",
    "    new_sol = np.logical_xor(solution, mask)\n",
    "    return new_sol"
   ]
  },
  {
   "cell_type": "markdown",
   "metadata": {},
   "source": [
    "# Fitness functions"
   ]
  },
  {
   "cell_type": "code",
   "execution_count": 477,
   "metadata": {},
   "outputs": [],
   "source": [
    "def binary_validity_fitness(solution: np.ndarray):\n",
    "    # remember that comparison is lexicografic with tupple (i.e. if a tupple is starting with 0 will be less than a valid one even\n",
    "    # if the cost is less)\n",
    "    return (valid(solution), -cost(solution))\n",
    "\n",
    "def range_validity_fitness(solution: np.ndarray):\n",
    "    phenotype = np.logical_or.reduce(SETS[solution])\n",
    "    validity_score = UNIVERSE_SIZE - phenotype.sum()\n",
    "    return (-validity_score, -cost(solution))\n"
   ]
  },
  {
   "cell_type": "markdown",
   "metadata": {},
   "source": [
    "# Simulation Annealing"
   ]
  },
  {
   "cell_type": "code",
   "execution_count": 556,
   "metadata": {},
   "outputs": [],
   "source": [
    "def sim_annealing(init_solution: np.ndarray, \n",
    "                  steps: int,\n",
    "                  restarts: int,\n",
    "                  tweak: Callable[[np.ndarray], tuple], \n",
    "                  fitness: Callable[[np.ndarray], tuple],\n",
    "                  initial_prob: float,\n",
    "                  temperature_dec_factor: float) -> tuple[list, np.ndarray]:\n",
    "    \n",
    "    best_solution = init_solution.copy()\n",
    "    best_fitness = fitness(best_solution)\n",
    "    current_solution = best_solution\n",
    "    current_solution_fitness = best_fitness\n",
    "    history = [ best_fitness[1] ]\n",
    "\n",
    "    ic(fitness(best_solution))\n",
    "    \n",
    "    for restart in tqdm(range(restarts)):\n",
    "\n",
    "        prob = initial_prob\n",
    "        ic(current_solution_fitness)\n",
    "\n",
    "        for step in range(steps // restarts):\n",
    "\n",
    "            new_sol = tweak(current_solution, prob)\n",
    "            f = fitness(new_sol)\n",
    "            history.append(f[1])\n",
    "\n",
    "            if f > current_solution_fitness:\n",
    "                current_solution = new_sol\n",
    "                current_solution_fitness = f\n",
    "\n",
    "            prob *= temperature_dec_factor \n",
    "\n",
    "        if current_solution_fitness > best_fitness:\n",
    "            best_fitness = current_solution_fitness\n",
    "            best_solution = current_solution.copy()\n",
    "\n",
    "        # current_solution = rng.random(NUM_SETS) < 0.1\n",
    "        # current_solution_fitness = fitness(current_solution)\n",
    "        \n",
    "\n",
    "    return history, best_solution, best_fitness"
   ]
  },
  {
   "cell_type": "markdown",
   "metadata": {},
   "source": [
    "## Initial solution"
   ]
  },
  {
   "cell_type": "code",
   "execution_count": null,
   "metadata": {},
   "outputs": [],
   "source": [
    "INITIAL_SOLUTION = np.full((NUM_SETS), False)\n",
    "INITIAL_SOLUTION[rng.integers(NUM_SETS)] = True"
   ]
  },
  {
   "cell_type": "code",
   "execution_count": 558,
   "metadata": {},
   "outputs": [
    {
     "name": "stderr",
     "output_type": "stream",
     "text": [
      "ic| fitness(best_solution): (np.int64(-90041), np.float64(-25005.60148930159))\n",
      "  0%|          | 0/5 [00:00<?, ?it/s]ic| current_solution_fitness: (np.int64(-90041), np.float64(-25005.60148930159))\n",
      " 20%|██        | 1/5 [00:02<00:09,  2.28s/it]ic| current_solution_fitness: (np.int64(0), np.float64(-4417174.030158494))\n",
      " 40%|████      | 2/5 [00:04<00:06,  2.15s/it]ic| current_solution_fitness: (np.int64(0), np.float64(-4041547.6525687003))\n",
      " 60%|██████    | 3/5 [00:06<00:04,  2.07s/it]ic| current_solution_fitness: (np.int64(0), np.float64(-3739859.7369875982))\n",
      " 80%|████████  | 4/5 [00:08<00:01,  1.99s/it]ic| current_solution_fitness: (np.int64(0), np.float64(-3438166.5426673987))\n",
      "100%|██████████| 5/5 [00:09<00:00,  1.97s/it]\n",
      "ic| fitness(sol): (np.int64(0), np.float64(-3037730.6459611054))\n"
     ]
    },
    {
     "data": {
      "image/png": "[encoded data removed]",
      "text/plain": [
       "<Figure size 1400x800 with 1 Axes>"
      ]
     },
     "metadata": {},
     "output_type": "display_data"
    }
   ],
   "source": [
    "fitness = range_validity_fitness\n",
    "tweak = multiple_mutation\n",
    "his, sol, fit = sim_annealing(INITIAL_SOLUTION, 5000, 5, tweak, fitness, initial_prob=0.01, temperature_dec_factor=0.9)\n",
    "ic(fitness(sol))\n",
    "plot_history(his)"
   ]
  }
 ],
 "metadata": {
  "kernelspec": {
   "display_name": "ci_lab1_venv",
   "language": "python",
   "name": "python3"
  },
  "language_info": {
   "codemirror_mode": {
    "name": "ipython",
    "version": 3
   },
   "file_extension": ".py",
   "mimetype": "text/x-python",
   "name": "python",
   "nbconvert_exporter": "python",
   "pygments_lexer": "ipython3",
   "version": "3.12.6"
  }
 },
 "nbformat": 4,
 "nbformat_minor": 2
}
